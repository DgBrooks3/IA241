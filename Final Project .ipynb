{
 "cells": [
  {
   "cell_type": "markdown",
   "id": "4129d9db",
   "metadata": {},
   "source": [
    "# Visualizing Austrian COVID-19 Data "
   ]
  },
  {
   "cell_type": "markdown",
   "id": "7951bb17",
   "metadata": {},
   "source": [
    "## Background of COVID-19"
   ]
  },
  {
   "cell_type": "markdown",
   "id": "aadae45a",
   "metadata": {},
   "source": [
    "COVID-19 is an infectious disease that originated from the recently discovered coronavirus. It is passed through contact with saliva and has been a global pandemic for over a year, taking the lives of many."
   ]
  },
  {
   "cell_type": "markdown",
   "id": "a6d43616",
   "metadata": {},
   "source": [
    "## Data Source"
   ]
  },
  {
   "cell_type": "markdown",
   "id": "f14d14f5",
   "metadata": {},
   "source": [
    "This following data is taken from the [European Centre for Disease Prevention and Control](https://www.ecdc.europa.eu/en/publications-data/download-todays-data-geographic-distribution-covid-19-cases-worldwide)"
   ]
  },
  {
   "cell_type": "markdown",
   "id": "c388474b",
   "metadata": {},
   "source": [
    "## Data for Austria"
   ]
  },
  {
   "cell_type": "markdown",
   "id": "416b942c",
   "metadata": {},
   "source": [
    "![austria flag](https://cdn.britannica.com/73/6073-004-B0B9EBEE/Flag-Austria.jpg)"
   ]
  },
  {
   "cell_type": "code",
   "execution_count": 12,
   "id": "bddfba91",
   "metadata": {},
   "outputs": [],
   "source": [
    "%matplotlib inline\n",
    "import pandas\n",
    "df = pandas.read_excel('s3://ia241-brooks-spring2021/COVID-19-geographic-disbtribution-worldwide-2020-12-14.xls')"
   ]
  },
  {
   "cell_type": "markdown",
   "id": "8122533e",
   "metadata": {},
   "source": [
    "### Overview of Example of Austrian COVID-19 Data"
   ]
  },
  {
   "cell_type": "code",
   "execution_count": 14,
   "id": "0d57b382",
   "metadata": {},
   "outputs": [
    {
     "data": {
      "text/html": [
       "<div>\n",
       "<style scoped>\n",
       "    .dataframe tbody tr th:only-of-type {\n",
       "        vertical-align: middle;\n",
       "    }\n",
       "\n",
       "    .dataframe tbody tr th {\n",
       "        vertical-align: top;\n",
       "    }\n",
       "\n",
       "    .dataframe thead th {\n",
       "        text-align: right;\n",
       "    }\n",
       "</style>\n",
       "<table border=\"1\" class=\"dataframe\">\n",
       "  <thead>\n",
       "    <tr style=\"text-align: right;\">\n",
       "      <th></th>\n",
       "      <th>dateRep</th>\n",
       "      <th>day</th>\n",
       "      <th>month</th>\n",
       "      <th>year</th>\n",
       "      <th>cases</th>\n",
       "      <th>deaths</th>\n",
       "      <th>countriesAndTerritories</th>\n",
       "      <th>geoId</th>\n",
       "      <th>countryterritoryCode</th>\n",
       "      <th>popData2019</th>\n",
       "      <th>continentExp</th>\n",
       "      <th>Cumulative_number_for_14_days_of_COVID-19_cases_per_100000</th>\n",
       "    </tr>\n",
       "  </thead>\n",
       "  <tbody>\n",
       "    <tr>\n",
       "      <th>3284</th>\n",
       "      <td>2020-12-14</td>\n",
       "      <td>14</td>\n",
       "      <td>12</td>\n",
       "      <td>2020</td>\n",
       "      <td>3005</td>\n",
       "      <td>45</td>\n",
       "      <td>Austria</td>\n",
       "      <td>AT</td>\n",
       "      <td>AUT</td>\n",
       "      <td>8858775.0</td>\n",
       "      <td>Europe</td>\n",
       "      <td>472.458099</td>\n",
       "    </tr>\n",
       "    <tr>\n",
       "      <th>3285</th>\n",
       "      <td>2020-12-13</td>\n",
       "      <td>13</td>\n",
       "      <td>12</td>\n",
       "      <td>2020</td>\n",
       "      <td>2938</td>\n",
       "      <td>96</td>\n",
       "      <td>Austria</td>\n",
       "      <td>AT</td>\n",
       "      <td>AUT</td>\n",
       "      <td>8858775.0</td>\n",
       "      <td>Europe</td>\n",
       "      <td>482.640094</td>\n",
       "    </tr>\n",
       "    <tr>\n",
       "      <th>3286</th>\n",
       "      <td>2020-12-12</td>\n",
       "      <td>12</td>\n",
       "      <td>12</td>\n",
       "      <td>2020</td>\n",
       "      <td>3026</td>\n",
       "      <td>101</td>\n",
       "      <td>Austria</td>\n",
       "      <td>AT</td>\n",
       "      <td>AUT</td>\n",
       "      <td>8858775.0</td>\n",
       "      <td>Europe</td>\n",
       "      <td>503.263713</td>\n",
       "    </tr>\n",
       "    <tr>\n",
       "      <th>3287</th>\n",
       "      <td>2020-12-11</td>\n",
       "      <td>11</td>\n",
       "      <td>12</td>\n",
       "      <td>2020</td>\n",
       "      <td>2466</td>\n",
       "      <td>125</td>\n",
       "      <td>Austria</td>\n",
       "      <td>AT</td>\n",
       "      <td>AUT</td>\n",
       "      <td>8858775.0</td>\n",
       "      <td>Europe</td>\n",
       "      <td>523.492244</td>\n",
       "    </tr>\n",
       "    <tr>\n",
       "      <th>3288</th>\n",
       "      <td>2020-12-10</td>\n",
       "      <td>10</td>\n",
       "      <td>12</td>\n",
       "      <td>2020</td>\n",
       "      <td>2913</td>\n",
       "      <td>126</td>\n",
       "      <td>Austria</td>\n",
       "      <td>AT</td>\n",
       "      <td>AUT</td>\n",
       "      <td>8858775.0</td>\n",
       "      <td>Europe</td>\n",
       "      <td>557.142494</td>\n",
       "    </tr>\n",
       "    <tr>\n",
       "      <th>3289</th>\n",
       "      <td>2020-12-09</td>\n",
       "      <td>9</td>\n",
       "      <td>12</td>\n",
       "      <td>2020</td>\n",
       "      <td>2531</td>\n",
       "      <td>80</td>\n",
       "      <td>Austria</td>\n",
       "      <td>AT</td>\n",
       "      <td>AUT</td>\n",
       "      <td>8858775.0</td>\n",
       "      <td>Europe</td>\n",
       "      <td>590.815322</td>\n",
       "    </tr>\n",
       "    <tr>\n",
       "      <th>3290</th>\n",
       "      <td>2020-12-08</td>\n",
       "      <td>8</td>\n",
       "      <td>12</td>\n",
       "      <td>2020</td>\n",
       "      <td>2181</td>\n",
       "      <td>95</td>\n",
       "      <td>Austria</td>\n",
       "      <td>AT</td>\n",
       "      <td>AUT</td>\n",
       "      <td>8858775.0</td>\n",
       "      <td>Europe</td>\n",
       "      <td>608.921662</td>\n",
       "    </tr>\n",
       "    <tr>\n",
       "      <th>3291</th>\n",
       "      <td>2020-12-07</td>\n",
       "      <td>7</td>\n",
       "      <td>12</td>\n",
       "      <td>2020</td>\n",
       "      <td>2745</td>\n",
       "      <td>58</td>\n",
       "      <td>Austria</td>\n",
       "      <td>AT</td>\n",
       "      <td>AUT</td>\n",
       "      <td>8858775.0</td>\n",
       "      <td>Europe</td>\n",
       "      <td>619.182675</td>\n",
       "    </tr>\n",
       "    <tr>\n",
       "      <th>3292</th>\n",
       "      <td>2020-12-06</td>\n",
       "      <td>6</td>\n",
       "      <td>12</td>\n",
       "      <td>2020</td>\n",
       "      <td>3160</td>\n",
       "      <td>87</td>\n",
       "      <td>Austria</td>\n",
       "      <td>AT</td>\n",
       "      <td>AUT</td>\n",
       "      <td>8858775.0</td>\n",
       "      <td>Europe</td>\n",
       "      <td>647.064634</td>\n",
       "    </tr>\n",
       "    <tr>\n",
       "      <th>3293</th>\n",
       "      <td>2020-12-05</td>\n",
       "      <td>5</td>\n",
       "      <td>12</td>\n",
       "      <td>2020</td>\n",
       "      <td>3634</td>\n",
       "      <td>140</td>\n",
       "      <td>Austria</td>\n",
       "      <td>AT</td>\n",
       "      <td>AUT</td>\n",
       "      <td>8858775.0</td>\n",
       "      <td>Europe</td>\n",
       "      <td>681.821132</td>\n",
       "    </tr>\n",
       "  </tbody>\n",
       "</table>\n",
       "</div>"
      ],
      "text/plain": [
       "        dateRep  day  month  year  cases  deaths countriesAndTerritories  \\\n",
       "3284 2020-12-14   14     12  2020   3005      45                 Austria   \n",
       "3285 2020-12-13   13     12  2020   2938      96                 Austria   \n",
       "3286 2020-12-12   12     12  2020   3026     101                 Austria   \n",
       "3287 2020-12-11   11     12  2020   2466     125                 Austria   \n",
       "3288 2020-12-10   10     12  2020   2913     126                 Austria   \n",
       "3289 2020-12-09    9     12  2020   2531      80                 Austria   \n",
       "3290 2020-12-08    8     12  2020   2181      95                 Austria   \n",
       "3291 2020-12-07    7     12  2020   2745      58                 Austria   \n",
       "3292 2020-12-06    6     12  2020   3160      87                 Austria   \n",
       "3293 2020-12-05    5     12  2020   3634     140                 Austria   \n",
       "\n",
       "     geoId countryterritoryCode  popData2019 continentExp  \\\n",
       "3284    AT                  AUT    8858775.0       Europe   \n",
       "3285    AT                  AUT    8858775.0       Europe   \n",
       "3286    AT                  AUT    8858775.0       Europe   \n",
       "3287    AT                  AUT    8858775.0       Europe   \n",
       "3288    AT                  AUT    8858775.0       Europe   \n",
       "3289    AT                  AUT    8858775.0       Europe   \n",
       "3290    AT                  AUT    8858775.0       Europe   \n",
       "3291    AT                  AUT    8858775.0       Europe   \n",
       "3292    AT                  AUT    8858775.0       Europe   \n",
       "3293    AT                  AUT    8858775.0       Europe   \n",
       "\n",
       "      Cumulative_number_for_14_days_of_COVID-19_cases_per_100000  \n",
       "3284                                         472.458099           \n",
       "3285                                         482.640094           \n",
       "3286                                         503.263713           \n",
       "3287                                         523.492244           \n",
       "3288                                         557.142494           \n",
       "3289                                         590.815322           \n",
       "3290                                         608.921662           \n",
       "3291                                         619.182675           \n",
       "3292                                         647.064634           \n",
       "3293                                         681.821132           "
      ]
     },
     "execution_count": 14,
     "metadata": {},
     "output_type": "execute_result"
    }
   ],
   "source": [
    "austria_data = df.loc[df['countriesAndTerritories']=='Austria']\n",
    "austria_data[:10]"
   ]
  },
  {
   "cell_type": "markdown",
   "id": "74ed1570",
   "metadata": {},
   "source": [
    "### Trend of Cases"
   ]
  },
  {
   "cell_type": "code",
   "execution_count": 15,
   "id": "d242c761",
   "metadata": {},
   "outputs": [],
   "source": [
    "sum_cases_per_day = austria_data.groupby('dateRep').sum()['cases']"
   ]
  },
  {
   "cell_type": "code",
   "execution_count": 16,
   "id": "89285250",
   "metadata": {},
   "outputs": [
    {
     "data": {
      "text/plain": [
       "<AxesSubplot:xlabel='dateRep'>"
      ]
     },
     "execution_count": 16,
     "metadata": {},
     "output_type": "execute_result"
    },
    {
     "data": {
      "image/png": "[encoded data removed]",
      "text/plain": [
       "<Figure size 432x288 with 1 Axes>"
      ]
     },
     "metadata": {
      "needs_background": "light"
     },
     "output_type": "display_data"
    }
   ],
   "source": [
    "sum_cases_per_day.plot()"
   ]
  },
  {
   "cell_type": "markdown",
   "id": "9dfde48c",
   "metadata": {},
   "source": [
    "### Number of Cases Confirmed in Austria in 2020"
   ]
  },
  {
   "cell_type": "code",
   "execution_count": 19,
   "id": "968256b3",
   "metadata": {},
   "outputs": [
    {
     "name": "stdout",
     "output_type": "stream",
     "text": [
      "320036\n"
     ]
    }
   ],
   "source": [
    "sum_cases = austria_data.sum()['cases']\n",
    "print(sum_cases)"
   ]
  },
  {
   "cell_type": "markdown",
   "id": "6e205bf1",
   "metadata": {},
   "source": [
    "### Number of Confirmed Deaths in Austria in 2020"
   ]
  },
  {
   "cell_type": "code",
   "execution_count": 20,
   "id": "fb16a701",
   "metadata": {},
   "outputs": [
    {
     "name": "stdout",
     "output_type": "stream",
     "text": [
      "4400\n"
     ]
    }
   ],
   "source": [
    "sum_deaths = austria_data.sum()['deaths']\n",
    "print(sum_deaths)"
   ]
  },
  {
   "cell_type": "markdown",
   "id": "30294f3c",
   "metadata": {},
   "source": [
    "### How Number of Cases is Related to Number of Deaths in Austria"
   ]
  },
  {
   "cell_type": "code",
   "execution_count": 22,
   "id": "ef511d69",
   "metadata": {},
   "outputs": [
    {
     "data": {
      "text/plain": [
       "<AxesSubplot:xlabel='cases', ylabel='deaths'>"
      ]
     },
     "execution_count": 22,
     "metadata": {},
     "output_type": "execute_result"
    },
    {
     "data": {
      "image/png": "[encoded data removed]",
      "text/plain": [
       "<Figure size 432x288 with 1 Axes>"
      ]
     },
     "metadata": {
      "needs_background": "light"
     },
     "output_type": "display_data"
    }
   ],
   "source": [
    "austria_data.plot.scatter(x = 'cases', y = 'deaths')"
   ]
  },
  {
   "cell_type": "markdown",
   "id": "ce3ae43d",
   "metadata": {},
   "source": [
    "## Explanation of Calculations and Interpretation of Visuals"
   ]
  },
  {
   "cell_type": "markdown",
   "id": "5609dddd",
   "metadata": {},
   "source": [
    "Calculating the confirmed number of deaths and cases gives a value to compare Austria against other countries and serves as a representation of the country's response to the pandemic. The trend of cases can be used for measuring the success of any health and safety guidelines taken by Austria and provides a visual representation of how the disease spread over time. The relationship between the confirmed cases and deaths shows Austria's ability to mitigate the confirmed cases and how their health system is doing with tending to those infected."
   ]
  },
  {
   "cell_type": "markdown",
   "id": "204d40b5",
   "metadata": {},
   "source": [
    "## Author Info"
   ]
  },
  {
   "cell_type": "markdown",
   "id": "eca887d5",
   "metadata": {},
   "source": [
    "David Brooks\n",
    "\n",
    "Email: brooksdg@dukes.jmu.edu"
   ]
  },
  {
   "cell_type": "markdown",
   "id": "f06445a1",
   "metadata": {},
   "source": [
    "## Conclusion"
   ]
  },
  {
   "cell_type": "markdown",
   "id": "42f7758a",
   "metadata": {},
   "source": [
    "The overall purpose of this data visualizaion and analysis is to show Austria's reported deaths and cases and attempt to connect the data to their responsiveness to the pandemic. The limitations of this analysis include myself being a beginning programmer in python, the availability of COVID-19 data from Austria, the veracity of the data, and the scope of the data set. A better understanding of how to code and use code to create graphs and manipulate data would improve the quality of this project."
   ]
  },
  {
   "cell_type": "code",
   "execution_count": null,
   "id": "26addc48",
   "metadata": {},
   "outputs": [],
   "source": []
  }
 ],
 "metadata": {
  "kernelspec": {
   "display_name": "conda_python3",
   "language": "python",
   "name": "conda_python3"
  },
  "language_info": {
   "codemirror_mode": {
    "name": "ipython",
    "version": 3
   },
   "file_extension": ".py",
   "mimetype": "text/x-python",
   "name": "python",
   "nbconvert_exporter": "python",
   "pygments_lexer": "ipython3",
   "version": "3.6.13"
  }
 },
 "nbformat": 4,
 "nbformat_minor": 5
}
